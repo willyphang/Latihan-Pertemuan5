{
  "nbformat": 4,
  "nbformat_minor": 0,
  "metadata": {
    "colab": {
      "provenance": []
    },
    "kernelspec": {
      "name": "python3",
      "display_name": "Python 3"
    },
    "language_info": {
      "name": "python"
    }
  },
  "cells": [
    {
      "cell_type": "code",
      "execution_count": 2,
      "metadata": {
        "id": "ctsRrfHdoKPi"
      },
      "outputs": [],
      "source": [
        "#page 18\n",
        "def divideAndConquer_Max(arr, ind, len):\n",
        "  maximum = -1;\n",
        "\n",
        "  if(ind >= len -2):\n",
        "    if (arr[ind] > arr[ind + 1]):\n",
        "      return arr[ind];\n",
        "    else:\n",
        "        return arr[ind + 1];\n",
        "\n",
        "\n",
        "  maximum = divideAndConquer_Max(arr, ind + 1, len);\n",
        "\n",
        "  if (arr[ind] > maximum):\n",
        "    return arr[ind];\n",
        "  else:\n",
        "      return maximum;\n",
        ""
      ]
    },
    {
      "cell_type": "code",
      "source": [
        "def divideAndConquer_Min(arr, ind, len):\n",
        "\n",
        "  minimum = 0;\n",
        "  if (ind >= len - 2):\n",
        "    if (arr[ind] < arr [ind + 1]):\n",
        "      return arr[ind];\n",
        "    else:\n",
        "      return arr[ind + 1];\n",
        "\n",
        "  minimum = divideAndConquer_Min(arr, ind + 1, len);\n",
        "\n",
        "  if (arr[ind] < minimum):\n",
        "    return arr[ind];\n",
        "  else:\n",
        "    return minimum;"
      ],
      "metadata": {
        "id": "hGSy-rjJpQt6"
      },
      "execution_count": 3,
      "outputs": []
    },
    {
      "cell_type": "code",
      "source": [
        "if __name__ == '__main__':\n",
        "\n",
        "    minimum, maximum = 0, -1;\n",
        "\n",
        "    # array initialization\n",
        "    arr = [4,12,23,9,21,1,35,2,24,35];\n",
        "\n",
        "    maximum = divideAndConquer_Max(arr, 0, 10);\n",
        "    minimum = divideAndConquer_Min(arr, 0, 10);\n",
        "\n",
        "    print(\"The minimum number in the array is:\", minimum);\n",
        "    print(\"The maximum number in the array is:\", maximum);"
      ],
      "metadata": {
        "colab": {
          "base_uri": "https://localhost:8080/"
        },
        "id": "N65keUoOpTbx",
        "outputId": "c4e9eea3-8851-429f-e146-c1be1501d55a"
      },
      "execution_count": 4,
      "outputs": [
        {
          "output_type": "stream",
          "name": "stdout",
          "text": [
            "The minimum number in the array is: 1\n",
            "The maximum number in the array is: 35\n"
          ]
        }
      ]
    },
    {
      "cell_type": "code",
      "source": [
        "#page 23\n",
        "# Mergesort in python\n",
        "def mergeSort(array):\n",
        "    if len(array) > 1:\n",
        "\n",
        "      # r is point where the array is divided inti two subarrays\n",
        "      r = len(array)//2\n",
        "      L = array[:r]\n",
        "      M = array[r:]\n",
        "\n",
        "      #sort the two halves\n",
        "      mergeSort(L)\n",
        "      mergeSort(M)\n",
        "\n",
        "      i = j = k = 0\n",
        "\n",
        "      # Until we reach either end of either L or M, pisk larger among\n",
        "      # elements L or M and place them in the correct position at A[p..r]\n",
        "      while i < len(L) and j < len(M):\n",
        "        if L[i] < M[j]:\n",
        "            array[k] = L[i]\n",
        "            i += 1\n",
        "        else:\n",
        "            array[k] = M[j]\n",
        "            j += 1\n",
        "        k += 1\n",
        "\n",
        "      # when we run out pof elements in either L or M,\n",
        "      # pick up the remaining elements and put in A[p..r]\n",
        "\n",
        "      while i < len(L):\n",
        "        array[k] = L[i]\n",
        "        i += 1\n",
        "        k += 1\n",
        "\n",
        "      while j < len(M):\n",
        "        array[k] = M[j]\n",
        "        j += 1\n",
        "        k += 1"
      ],
      "metadata": {
        "id": "6cP_sFKtpXrs"
      },
      "execution_count": 9,
      "outputs": []
    },
    {
      "cell_type": "code",
      "source": [
        "# Print the array\n",
        "def printList(array):\n",
        "    for i in range(len(array)):\n",
        "      print(array[i], end=\" \")\n",
        "    print()\n",
        "\n",
        "# Driver program\n",
        "if __name__ == '__main__':\n",
        "    array = [4,12,23,9,21,1,35,2,24]\n",
        "\n",
        "    mergeSort(array)\n",
        "\n",
        "    print(\"Sorted array is:\")\n",
        "    printList(array)"
      ],
      "metadata": {
        "colab": {
          "base_uri": "https://localhost:8080/"
        },
        "id": "bIXfHy8XqFJ9",
        "outputId": "05f1521d-2699-46eb-9feb-b1214f04d255"
      },
      "execution_count": 10,
      "outputs": [
        {
          "output_type": "stream",
          "name": "stdout",
          "text": [
            "Sorted array is:\n",
            "1 2 4 9 12 21 23 24 35 \n"
          ]
        }
      ]
    },
    {
      "cell_type": "code",
      "source": [
        "#page 34\n",
        "# Function to find the partition position\n",
        "def partition(array, low, high):\n",
        "\n",
        "  # choose the rightmost element as pivot\n",
        "  pivot = array[high]\n",
        "\n",
        "  # pointer for greater element\n",
        "  i = low - 1\n",
        "\n",
        "  # traverse through all elements\n",
        "  # compare each element with pivot\n",
        "\n",
        "  for j in range(low, high):\n",
        "    if array[j] <= pivot:\n",
        "\n",
        "      # If element smaller than pivot is found\n",
        "      # swap it with the greater element pointed by i\n",
        "      i = i + 1\n",
        "\n",
        "      # Swapping element at   with element at j\n",
        "      (array[i], array[j]) = (array[j], array[i])\n",
        "\n",
        "  # Swap the pivot element with the greater element specified by i\n",
        "  (array[i + 1], array[high]) = (array[high], array[i + 1])\n",
        "\n",
        "  # Return the position from where partition is done\n",
        "  return i + 1\n",
        ""
      ],
      "metadata": {
        "id": "Pfa-8UboqITf"
      },
      "execution_count": 11,
      "outputs": []
    },
    {
      "cell_type": "code",
      "source": [
        "# function to perform quicksort\n",
        "def quickSort(array, low, high):\n",
        "    if low < high:\n",
        "\n",
        "      # Find pivot element such that\n",
        "      # lement smaller than pivot are on the left\n",
        "      # element greater than pivot are on the right\n",
        "      pi = partition(array, low, high)\n",
        "\n",
        "      # Recursive call on the left of pivot\n",
        "      quickSort(array, low, pi - 1)\n",
        "\n",
        "      # Recursive call on the left of pivot\n",
        "      quickSort(array, pi + 1, high)"
      ],
      "metadata": {
        "id": "oY8ZfoALqOq_"
      },
      "execution_count": 12,
      "outputs": []
    },
    {
      "cell_type": "code",
      "source": [
        "data = [4, 12, 23, 9, 21, 1, 35, 2, 24]\n",
        "print(\"Unsorted Array\")\n",
        "print(data)\n",
        "\n",
        "size = len(data)\n",
        "\n",
        "quickSort(data, 0, size - 1)\n",
        "\n",
        "print('Sorted Array in Ascending Order:')\n",
        "print(data)"
      ],
      "metadata": {
        "colab": {
          "base_uri": "https://localhost:8080/"
        },
        "id": "KVxtmCU-qQ2q",
        "outputId": "c9840b0b-f5a7-4fea-e522-119ff44e732f"
      },
      "execution_count": 13,
      "outputs": [
        {
          "output_type": "stream",
          "name": "stdout",
          "text": [
            "Unsorted Array\n",
            "[4, 12, 23, 9, 21, 1, 35, 2, 24]\n",
            "Sorted Array in Ascending Order:\n",
            "[1, 2, 4, 9, 12, 21, 23, 24, 35]\n"
          ]
        }
      ]
    },
    {
      "cell_type": "code",
      "source": [
        "#page 35\n",
        "# Hitung Inversi\n",
        "\n",
        "def countInversion(arr):\n",
        "  result = 0\n",
        "  for i in range(len(arr)):\n",
        "      for j in range(i+1,len(arr)):\n",
        "          if arr[i] > arr[j]:\n",
        "              result+=1\n",
        "  return result\n",
        "\n",
        "arr=[21, 70, 36, 14, 25]\n",
        "result=countInversion(arr)\n",
        "print(result)"
      ],
      "metadata": {
        "colab": {
          "base_uri": "https://localhost:8080/"
        },
        "id": "EtU_tU96qVJx",
        "outputId": "b21bbb3a-a308-4dda-d74a-0ceaae487029"
      },
      "execution_count": 14,
      "outputs": [
        {
          "output_type": "stream",
          "name": "stdout",
          "text": [
            "6\n"
          ]
        }
      ]
    },
    {
      "cell_type": "code",
      "source": [
        "#page 36\n",
        "# Hitung Inversi dengan divide dan conquer\n",
        "\n",
        "def countIversion(arr):\n",
        "  icount=0\n",
        "  if len(arr)<=1:\n",
        "      return icount\n",
        "\n",
        "  mid=len(arr)//2\n",
        "  left=arr[:mid]\n",
        "  right=arr[mid:]\n",
        "  icount+=countInversion(left)\n",
        "  icount+=countInversion(right)\n",
        "  i=j=k=0\n",
        "\n",
        "  #print(left)\n",
        "  #print(right)\n",
        "\n"
      ],
      "metadata": {
        "id": "xh1ef6Zqqbjk"
      },
      "execution_count": 19,
      "outputs": []
    },
    {
      "cell_type": "code",
      "source": [
        "# page 37\n",
        "# Tanpa divide dan conquer\n",
        "\n",
        "def maxSubSum(arr):\n",
        "    max_so_far=0\n",
        "    max_ending_here=0\n",
        "    for i in range(len(arr)):\n",
        "      max_ending_here+=arr[i]\n",
        "      if max_ending_here>max_so_far:\n",
        "        max_so_far=max_ending_here\n",
        "      if max_ending_here<0:\n",
        "         max_ending_here=0\n",
        "    return max_so_far\n",
        "arr=[-2, -5, 6, -2, -3, 1, 5, -6]\n",
        "result=maxSubSum(arr)\n",
        "print(result)"
      ],
      "metadata": {
        "colab": {
          "base_uri": "https://localhost:8080/"
        },
        "id": "27vIptNCqnQE",
        "outputId": "a4ce9f81-6a60-4811-c05b-ed8a5a6f7ca6"
      },
      "execution_count": 20,
      "outputs": [
        {
          "output_type": "stream",
          "name": "stdout",
          "text": [
            "7\n"
          ]
        }
      ]
    },
    {
      "cell_type": "code",
      "source": [
        "#page 38\n",
        "# Menggunakan Divide and Conquer\n",
        "\n",
        "def maxCrossingSum(arr,low,mid,high):\n",
        "    result=0; leftSum=float('-infinity')\n",
        "    for i in range(mid, low-1,-1):\n",
        "        result+=arr[i]\n",
        "        if result>leftSum:\n",
        "            leftSum=result\n",
        "    result=0; rightSum=float('-infinity')\n",
        "    for i in range(mid+1, high+1):\n",
        "        result+=arr[i]\n",
        "        if result>rightSum:\n",
        "           rightSum=result\n",
        "    return leftSum+rightSum\n",
        "\n",
        "\n",
        "def maxSum(arr, low, high):\n",
        "    if low == high:\n",
        "        return arr[low]\n",
        "    mid=(low+high)//2\n",
        "    return max(maxSum(arr,low,mid),maxSum(arr,mid+1,high),maxCrossingSum(arr,low,mid,high))\n",
        "\n",
        "arr=[-2, -5, 6, -2, -3,  1, 5, -6]\n",
        "result=maxSum(arr,0,len(arr)-1)\n",
        "print(result)"
      ],
      "metadata": {
        "colab": {
          "base_uri": "https://localhost:8080/"
        },
        "id": "UsksH9T_qssV",
        "outputId": "7cf76a42-ffae-4dcf-e18e-3b8f7235af97"
      },
      "execution_count": 21,
      "outputs": [
        {
          "output_type": "stream",
          "name": "stdout",
          "text": [
            "7\n"
          ]
        }
      ]
    },
    {
      "cell_type": "code",
      "source": [
        "#page 39\n",
        "# Longest Common Prefix\n",
        "def longestCommonPrefix(a):\n",
        "\n",
        "    size = len(a)\n",
        "\n",
        "    # if size is 0, return empty string\n",
        "    if (size == 0):\n",
        "        return \"\"\n",
        "\n",
        "    if (size == 1):\n",
        "        return a[0]\n",
        "\n",
        "    # sort the array of strings\n",
        "    a.sort()\n",
        "\n",
        "    #find the minimum length from\n",
        "    # first and last string\n",
        "    end = min(len(a[0]), len(a[size - 1]))\n",
        "\n",
        "    # find the common prefix between\n",
        "    # the first and last string\n",
        "    i = 0\n",
        "    while (i < end and\n",
        "           a[0][i] == a [size - 1][i]):\n",
        "      i += 1\n",
        "\n",
        "    pre = a[0][0 : i]\n",
        "    return pre\n",
        "\n",
        "arr=[\"geeksforgeeks\", \"geeks\", \"geek\", \"geezer\"]\n",
        "result=longestCommonPrefix(arr)\n",
        "print(result)\n",
        "\n",
        "arr=[\"apple\",\"ape\",\"april\"]\n",
        "result=longestCommonPrefix(arr)\n",
        "print(result)"
      ],
      "metadata": {
        "colab": {
          "base_uri": "https://localhost:8080/"
        },
        "id": "iMXj3MsPqt8n",
        "outputId": "525d67ae-c230-4909-cf19-aedab24524b1"
      },
      "execution_count": 22,
      "outputs": [
        {
          "output_type": "stream",
          "name": "stdout",
          "text": [
            "gee\n",
            "ap\n"
          ]
        }
      ]
    },
    {
      "cell_type": "code",
      "source": [
        "#page 40\n",
        "# median data dari2 array dengan divide dan conquer\n",
        "\n",
        "def medianOfArray(arr1,arr2,n):\n",
        "    m1=-1\n",
        "    m2=-1\n",
        "    count=0\n",
        "    i=j=0\n",
        "\n"
      ],
      "metadata": {
        "id": "1yRxER65q3Ig"
      },
      "execution_count": 25,
      "outputs": []
    },
    {
      "cell_type": "code",
      "source": [
        "#page 43\n",
        "def Solution(arr):\n",
        "    n = len(arr)\n",
        "    # if length of array is even\n",
        "    if n % 2 == 0:\n",
        "        z = n // 2\n",
        "        e = arr[z]\n",
        "        q = arr[z - 1]\n",
        "        ans = (e + q) / 2\n",
        "        return ans\n",
        "    # if length of array is old\n",
        "    else:\n",
        "        z = n // 2\n",
        "        ans = arr[z]\n",
        "        return ans\n",
        "\n",
        "arr1 = [-5, 3, 6, 12, 15]\n",
        "arr2 = [-12, -10, -6, -3, 4, 10]\n",
        "#concatenating the two array\n",
        "arr3 = arr1 + arr2\n",
        "#sorting the resultant array\n",
        "arr3.sort()\n",
        "print(\"Median = \", Solution(arr3))"
      ],
      "metadata": {
        "colab": {
          "base_uri": "https://localhost:8080/"
        },
        "id": "VvDJRxDGrDxO",
        "outputId": "1125934f-2e02-4d79-d28f-8467444c2b4d"
      },
      "execution_count": 26,
      "outputs": [
        {
          "output_type": "stream",
          "name": "stdout",
          "text": [
            "Median =  3\n"
          ]
        }
      ]
    },
    {
      "cell_type": "code",
      "source": [
        "#page 46\n",
        "def find_closest(lst,k):\n",
        "    lst.sort()\n",
        "    closest_num = lst[0]\n",
        "    for num in lst:\n",
        "        if abs(num - k) < abs(closest_num - k):\n",
        "            closest_num = num\n",
        "        if num > k:\n",
        "            break\n",
        "    return closest_num\n",
        "\n",
        "lst = [3.64, 5.2, 9.42, 9.35, 8.5, 8]\n",
        "k = 9.1\n",
        "print(find_closest(lst, k))\n",
        "\n",
        "lst = [2,5,5,7,8,8,9]\n",
        "k = 6\n",
        "print(find_closest(lst, k))"
      ],
      "metadata": {
        "colab": {
          "base_uri": "https://localhost:8080/"
        },
        "id": "GT82hUHtrFsH",
        "outputId": "f5f1bff4-2b80-46bc-db88-f111f8f85228"
      },
      "execution_count": 33,
      "outputs": [
        {
          "output_type": "stream",
          "name": "stdout",
          "text": [
            "9.35\n",
            "5\n"
          ]
        }
      ]
    },
    {
      "cell_type": "code",
      "source": [
        "#page 47\n",
        "# mencari fixed point dengan metode divide dan conquer\n",
        "\n",
        "def fixedPoint(arr,low,high):\n",
        "  if low>high:\n",
        "    return -1\n",
        "  if arr[high]==high:\n",
        "    return arr[high]\n",
        "  if arr[low]==low:\n",
        "    return arr[low]\n",
        "  mid=(low+high)//2\n",
        "  if arr[mid]==mid:\n",
        "    return arr[mid]\n",
        "  if mid>arr[mid]:\n",
        "    return fixedPoint(arr,mid+1,high)\n",
        "  else:\n",
        "    return fixedPoint(arr,low,mid-1)\n",
        "\n",
        "arr=[9,1,4,5,2]\n",
        "print(fixedPoint(arr,0,len(arr)-1))"
      ],
      "metadata": {
        "colab": {
          "base_uri": "https://localhost:8080/"
        },
        "id": "m2dLFZwPsR_j",
        "outputId": "8033ceb7-d715-4f6c-945c-8a3f962c1ccc"
      },
      "execution_count": 34,
      "outputs": [
        {
          "output_type": "stream",
          "name": "stdout",
          "text": [
            "1\n"
          ]
        }
      ]
    }
  ]
}